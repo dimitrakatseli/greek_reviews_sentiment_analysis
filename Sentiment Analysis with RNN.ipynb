{
 "cells": [
  {
   "cell_type": "markdown",
   "metadata": {},
   "source": [
    "## RNNs\n",
    "\n",
    "We will use Recurrent Neural Networks, and in particular LSTMs, to perform sentiment analysis in Keras.  Conveniently, Keras has a built-in IMDb movie reviews dataset that we can use."
   ]
  },
  {
   "cell_type": "code",
   "execution_count": 1,
   "metadata": {},
   "outputs": [
    {
     "name": "stderr",
     "output_type": "stream",
     "text": [
      "Using TensorFlow backend.\n"
     ]
    }
   ],
   "source": [
    "from keras.datasets import imdb"
   ]
  },
  {
   "cell_type": "code",
   "execution_count": 2,
   "metadata": {},
   "outputs": [
    {
     "name": "stdout",
     "output_type": "stream",
     "text": [
      "Loaded dataset with 25000 training samples, 25000 test samples\n"
     ]
    }
   ],
   "source": [
    "vocabulary_size = 5000\n",
    "\n",
    "(X_train, y_train), (X_test, y_test) = imdb.load_data(num_words = vocabulary_size,)\n",
    "print('Loaded dataset with {} training samples, {} test samples'.format(len(X_train), len(X_test)))"
   ]
  },
  {
   "cell_type": "markdown",
   "metadata": {},
   "source": [
    " Inspect a sample review and its label"
   ]
  },
  {
   "cell_type": "code",
   "execution_count": 3,
   "metadata": {},
   "outputs": [
    {
     "name": "stdout",
     "output_type": "stream",
     "text": [
      "---review---\n",
      "[1, 2, 365, 1234, 5, 1156, 354, 11, 14, 2, 2, 7, 1016, 2, 2, 356, 44, 4, 1349, 500, 746, 5, 200, 4, 4132, 11, 2, 2, 1117, 1831, 2, 5, 4831, 26, 6, 2, 4183, 17, 369, 37, 215, 1345, 143, 2, 5, 1838, 8, 1974, 15, 36, 119, 257, 85, 52, 486, 9, 6, 2, 2, 63, 271, 6, 196, 96, 949, 4121, 4, 2, 7, 4, 2212, 2436, 819, 63, 47, 77, 2, 180, 6, 227, 11, 94, 2494, 2, 13, 423, 4, 168, 7, 4, 22, 5, 89, 665, 71, 270, 56, 5, 13, 197, 12, 161, 2, 99, 76, 23, 2, 7, 419, 665, 40, 91, 85, 108, 7, 4, 2084, 5, 4773, 81, 55, 52, 1901]\n",
      "---label---\n",
      "1\n"
     ]
    }
   ],
   "source": [
    "print('---review---')\n",
    "print(X_train[6])\n",
    "print('---label---')\n",
    "print(y_train[6])"
   ]
  },
  {
   "cell_type": "markdown",
   "metadata": {},
   "source": [
    "Map word IDs back to words"
   ]
  },
  {
   "cell_type": "code",
   "execution_count": 4,
   "metadata": {},
   "outputs": [
    {
     "name": "stdout",
     "output_type": "stream",
     "text": [
      "---review with words---\n",
      "['the', 'and', 'full', 'involving', 'to', 'impressive', 'boring', 'this', 'as', 'and', 'and', 'br', 'villain', 'and', 'and', 'need', 'has', 'of', 'costumes', 'b', 'message', 'to', 'may', 'of', 'props', 'this', 'and', 'and', 'concept', 'issue', 'and', 'to', \"god's\", 'he', 'is', 'and', 'unfolds', 'movie', 'women', 'like', \"isn't\", 'surely', \"i'm\", 'and', 'to', 'toward', 'in', \"here's\", 'for', 'from', 'did', 'having', 'because', 'very', 'quality', 'it', 'is', 'and', 'and', 'really', 'book', 'is', 'both', 'too', 'worked', 'carl', 'of', 'and', 'br', 'of', 'reviewer', 'closer', 'figure', 'really', 'there', 'will', 'and', 'things', 'is', 'far', 'this', 'make', 'mistakes', 'and', 'was', \"couldn't\", 'of', 'few', 'br', 'of', 'you', 'to', \"don't\", 'female', 'than', 'place', 'she', 'to', 'was', 'between', 'that', 'nothing', 'and', 'movies', 'get', 'are', 'and', 'br', 'yes', 'female', 'just', 'its', 'because', 'many', 'br', 'of', 'overly', 'to', 'descent', 'people', 'time', 'very', 'bland']\n",
      "---label---\n",
      "1\n"
     ]
    }
   ],
   "source": [
    "word2id = imdb.get_word_index()\n",
    "id2word = {i: word for word, i in word2id.items()}\n",
    "print('---review with words---')\n",
    "print([id2word.get(i, ' ') for i in X_train[6]])\n",
    "print('---label---')\n",
    "print(y_train[6])"
   ]
  },
  {
   "cell_type": "markdown",
   "metadata": {},
   "source": [
    "Maximum review length and minimum review length"
   ]
  },
  {
   "cell_type": "code",
   "execution_count": 5,
   "metadata": {},
   "outputs": [
    {
     "name": "stdout",
     "output_type": "stream",
     "text": [
      "Maximum review length: 2697\n"
     ]
    }
   ],
   "source": [
    "print('Maximum review length: {}'.format(\n",
    "len(max((X_train + X_test), key=len))))"
   ]
  },
  {
   "cell_type": "code",
   "execution_count": 6,
   "metadata": {},
   "outputs": [
    {
     "name": "stdout",
     "output_type": "stream",
     "text": [
      "Minimum review length: 14\n"
     ]
    }
   ],
   "source": [
    "print('Minimum review length: {}'.format(\n",
    "len(min((X_test + X_test), key=len))))"
   ]
  },
  {
   "cell_type": "markdown",
   "metadata": {},
   "source": [
    "### Pad sequences\n",
    "\n",
    "In order to feed this data into our RNN, all input documents must have the same length. We will limit the maximum review length to max_words by truncating longer reviews and padding shorter reviews with a null value (0). We can accomplish this using the pad_sequences() function in Keras. For now, set max_words to 500."
   ]
  },
  {
   "cell_type": "code",
   "execution_count": 7,
   "metadata": {},
   "outputs": [],
   "source": [
    "from keras.preprocessing import sequence\n",
    "\n",
    "max_words = 500\n",
    "X_train = sequence.pad_sequences(X_train, maxlen=max_words)\n",
    "X_test = sequence.pad_sequences(X_test, maxlen=max_words)"
   ]
  },
  {
   "cell_type": "markdown",
   "metadata": {},
   "source": [
    "### TODO: Design an RNN model for sentiment analysis\n",
    "\n",
    "Build our model architecture in the code cell below. We have imported some layers from Keras that you might need but feel free to use any other layers / transformations you like.\n",
    "\n",
    "Remember that our input is a sequence of words (technically, integer word IDs) of maximum length = max_words, and our output is a binary sentiment label (0 or 1)."
   ]
  },
  {
   "cell_type": "code",
   "execution_count": 8,
   "metadata": {},
   "outputs": [],
   "source": [
    "import multiprocessing\n",
    "import nltk\n",
    "import numpy as np\n",
    "import pandas as pd\n",
    "\n",
    "from keras import Sequential\n",
    "from keras.layers import Embedding, LSTM, Dense, Dropout, Flatten\n",
    "from gensim.models import Word2Vec\n",
    "from keras.preprocessing.text import one_hot, Tokenizer\n",
    "from keras.preprocessing.sequence import pad_sequences"
   ]
  },
  {
   "cell_type": "code",
   "execution_count": 9,
   "metadata": {},
   "outputs": [],
   "source": [
    "reviews = pd.read_csv(\"final_2gram.csv\", names=[\"id\", \"twogram\", \"threegram\", \"polarity\"])"
   ]
  },
  {
   "cell_type": "code",
   "execution_count": 10,
   "metadata": {},
   "outputs": [],
   "source": [
    "reviews.fillna({'twogram':'', 'threegram':''}, inplace=True)\n",
    "reviews.dropna(subset=['polarity'], inplace=True)"
   ]
  },
  {
   "cell_type": "code",
   "execution_count": 11,
   "metadata": {},
   "outputs": [],
   "source": [
    "reviews['text'] = reviews[[\"twogram\", \"threegram\"]].apply(lambda x: ' '.join(x.map(str)), axis=1)"
   ]
  },
  {
   "cell_type": "code",
   "execution_count": 12,
   "metadata": {},
   "outputs": [],
   "source": [
    "reviews.drop(['twogram', 'threegram'], axis=1, inplace=True)"
   ]
  },
  {
   "cell_type": "code",
   "execution_count": 13,
   "metadata": {},
   "outputs": [],
   "source": [
    "reviews.replace({'NEG':0, 'NEU':1, 'POS':2}, inplace=True)"
   ]
  },
  {
   "cell_type": "code",
   "execution_count": 14,
   "metadata": {},
   "outputs": [
    {
     "data": {
      "text/html": [
       "<div>\n",
       "<style scoped>\n",
       "    .dataframe tbody tr th:only-of-type {\n",
       "        vertical-align: middle;\n",
       "    }\n",
       "\n",
       "    .dataframe tbody tr th {\n",
       "        vertical-align: top;\n",
       "    }\n",
       "\n",
       "    .dataframe thead th {\n",
       "        text-align: right;\n",
       "    }\n",
       "</style>\n",
       "<table border=\"1\" class=\"dataframe\">\n",
       "  <thead>\n",
       "    <tr style=\"text-align: right;\">\n",
       "      <th></th>\n",
       "      <th>id</th>\n",
       "      <th>polarity</th>\n",
       "      <th>text</th>\n",
       "    </tr>\n",
       "  </thead>\n",
       "  <tbody>\n",
       "    <tr>\n",
       "      <th>31154</th>\n",
       "      <td>31154</td>\n",
       "      <td>0</td>\n",
       "      <td>βαρύτερο πρόσωπο</td>\n",
       "    </tr>\n",
       "    <tr>\n",
       "      <th>59052</th>\n",
       "      <td>59052</td>\n",
       "      <td>2</td>\n",
       "      <td>ψηφιακή μηχανή φωτογραφική μηχανή καλής ποιότ...</td>\n",
       "    </tr>\n",
       "    <tr>\n",
       "      <th>48941</th>\n",
       "      <td>48941</td>\n",
       "      <td>2</td>\n",
       "      <td>ενδιαφέρουσα σύντροφος εύκολη ανάγνωση</td>\n",
       "    </tr>\n",
       "    <tr>\n",
       "      <th>43345</th>\n",
       "      <td>43345</td>\n",
       "      <td>2</td>\n",
       "      <td>πλούσιο θόρυβο χρωματικό θόρυβο</td>\n",
       "    </tr>\n",
       "    <tr>\n",
       "      <th>8049</th>\n",
       "      <td>8049</td>\n",
       "      <td>0</td>\n",
       "      <td>διαφορετικές ώρες</td>\n",
       "    </tr>\n",
       "    <tr>\n",
       "      <th>51209</th>\n",
       "      <td>51209</td>\n",
       "      <td>2</td>\n",
       "      <td>κλασικά θέματα σύγχρονες γυναίκες αισιόδοξη τ...</td>\n",
       "    </tr>\n",
       "    <tr>\n",
       "      <th>54709</th>\n",
       "      <td>54709</td>\n",
       "      <td>0</td>\n",
       "      <td>πραγματική ρολόγια μεγαλύτερες ρολόγια</td>\n",
       "    </tr>\n",
       "    <tr>\n",
       "      <th>64005</th>\n",
       "      <td>566</td>\n",
       "      <td>2</td>\n",
       "      <td>κορυφαία ποιότητα υψηλή τιμή εξαιρετικές φωτο...</td>\n",
       "    </tr>\n",
       "    <tr>\n",
       "      <th>38603</th>\n",
       "      <td>38603</td>\n",
       "      <td>2</td>\n",
       "      <td>μικρά κομμάτια</td>\n",
       "    </tr>\n",
       "    <tr>\n",
       "      <th>24673</th>\n",
       "      <td>24673</td>\n",
       "      <td>2</td>\n",
       "      <td>φιλοσοφικά ζητήματα</td>\n",
       "    </tr>\n",
       "    <tr>\n",
       "      <th>2857</th>\n",
       "      <td>2857</td>\n",
       "      <td>2</td>\n",
       "      <td>ζωντανή απόδοση προηγούμενες στιγμές σύντομες...</td>\n",
       "    </tr>\n",
       "    <tr>\n",
       "      <th>2768</th>\n",
       "      <td>2768</td>\n",
       "      <td>1</td>\n",
       "      <td>καλό παιχνίδι ισχυρές δονήσεις σκληρό καουτσούκ</td>\n",
       "    </tr>\n",
       "    <tr>\n",
       "      <th>30705</th>\n",
       "      <td>30705</td>\n",
       "      <td>0</td>\n",
       "      <td>καλή σχάρα</td>\n",
       "    </tr>\n",
       "    <tr>\n",
       "      <th>41598</th>\n",
       "      <td>41598</td>\n",
       "      <td>0</td>\n",
       "      <td>καλές λεπτομέρεια κριτικές λεπτομέρεια μεγάλη...</td>\n",
       "    </tr>\n",
       "    <tr>\n",
       "      <th>65999</th>\n",
       "      <td>2564</td>\n",
       "      <td>2</td>\n",
       "      <td>δεν</td>\n",
       "    </tr>\n",
       "    <tr>\n",
       "      <th>39002</th>\n",
       "      <td>39002</td>\n",
       "      <td>2</td>\n",
       "      <td>αστείο επιλογή καλή επιλογή</td>\n",
       "    </tr>\n",
       "    <tr>\n",
       "      <th>12592</th>\n",
       "      <td>12592</td>\n",
       "      <td>1</td>\n",
       "      <td>μεγάλος θαυμαστής</td>\n",
       "    </tr>\n",
       "    <tr>\n",
       "      <th>67354</th>\n",
       "      <td>3922</td>\n",
       "      <td>2</td>\n",
       "      <td>καθαρό android</td>\n",
       "    </tr>\n",
       "    <tr>\n",
       "      <th>40698</th>\n",
       "      <td>40698</td>\n",
       "      <td>2</td>\n",
       "      <td>έξυπνα προσαρτήματα</td>\n",
       "    </tr>\n",
       "    <tr>\n",
       "      <th>25318</th>\n",
       "      <td>25318</td>\n",
       "      <td>2</td>\n",
       "      <td>συστηματική εξήγηση ευρεία πορεία προηγούμενο...</td>\n",
       "    </tr>\n",
       "    <tr>\n",
       "      <th>942</th>\n",
       "      <td>942</td>\n",
       "      <td>2</td>\n",
       "      <td>τρέχουσα τεχνολογία ιατρική τεχνολογία εύκολη...</td>\n",
       "    </tr>\n",
       "    <tr>\n",
       "      <th>25081</th>\n",
       "      <td>25081</td>\n",
       "      <td>2</td>\n",
       "      <td>αλλεργική αντίδραση ευρείας γκάμας αλλεργικής...</td>\n",
       "    </tr>\n",
       "    <tr>\n",
       "      <th>8249</th>\n",
       "      <td>8249</td>\n",
       "      <td>2</td>\n",
       "      <td>υπέροχο βιβλίο μικρό τύπος γρήγορος τύπος μεγ...</td>\n",
       "    </tr>\n",
       "    <tr>\n",
       "      <th>36047</th>\n",
       "      <td>36047</td>\n",
       "      <td>0</td>\n",
       "      <td>αρνητικά αστέρια</td>\n",
       "    </tr>\n",
       "    <tr>\n",
       "      <th>12837</th>\n",
       "      <td>12837</td>\n",
       "      <td>2</td>\n",
       "      <td>παράξενο κομμάτι</td>\n",
       "    </tr>\n",
       "    <tr>\n",
       "      <th>62480</th>\n",
       "      <td>62480</td>\n",
       "      <td>0</td>\n",
       "      <td>φτηνό κομμάτι εσωτερική καλωδίωση</td>\n",
       "    </tr>\n",
       "    <tr>\n",
       "      <th>55997</th>\n",
       "      <td>55997</td>\n",
       "      <td>0</td>\n",
       "      <td>κακός λάθος μεγαλύτερο λάθος κακός λάθος</td>\n",
       "    </tr>\n",
       "    <tr>\n",
       "      <th>15226</th>\n",
       "      <td>15226</td>\n",
       "      <td>2</td>\n",
       "      <td>καλύτερο προϊόν εύκολη συναρμολόγηση</td>\n",
       "    </tr>\n",
       "    <tr>\n",
       "      <th>36254</th>\n",
       "      <td>36254</td>\n",
       "      <td>0</td>\n",
       "      <td>προεδρική βιβλιοθήκη μεγάλες συνεισφορές πολι...</td>\n",
       "    </tr>\n",
       "    <tr>\n",
       "      <th>47091</th>\n",
       "      <td>47091</td>\n",
       "      <td>2</td>\n",
       "      <td>εύκολος καφές υπέροχος καφές μοναδική ώρα  όχ...</td>\n",
       "    </tr>\n",
       "    <tr>\n",
       "      <th>...</th>\n",
       "      <td>...</td>\n",
       "      <td>...</td>\n",
       "      <td>...</td>\n",
       "    </tr>\n",
       "    <tr>\n",
       "      <th>53327</th>\n",
       "      <td>53327</td>\n",
       "      <td>0</td>\n",
       "      <td>χειρότερη ταινία κινηματογραφική ταινία υπερβ...</td>\n",
       "    </tr>\n",
       "    <tr>\n",
       "      <th>46929</th>\n",
       "      <td>46929</td>\n",
       "      <td>0</td>\n",
       "      <td>παλαιότερη έκδοση όμορφα χρώματα παλαιότερη έ...</td>\n",
       "    </tr>\n",
       "    <tr>\n",
       "      <th>62825</th>\n",
       "      <td>62825</td>\n",
       "      <td>1</td>\n",
       "      <td>δωρεάν παιχνίδι online παιχνίδι κακό μέρος</td>\n",
       "    </tr>\n",
       "    <tr>\n",
       "      <th>38841</th>\n",
       "      <td>38841</td>\n",
       "      <td>0</td>\n",
       "      <td>σημαντικά χαρακτηριστικά νέα εκδόσεις παλαιότ...</td>\n",
       "    </tr>\n",
       "    <tr>\n",
       "      <th>39527</th>\n",
       "      <td>39527</td>\n",
       "      <td>0</td>\n",
       "      <td>υψηλή κοινωνία επώδυνη κοινωνία επείγουσα σύζ...</td>\n",
       "    </tr>\n",
       "    <tr>\n",
       "      <th>53015</th>\n",
       "      <td>53015</td>\n",
       "      <td>0</td>\n",
       "      <td>καλό τρόπο</td>\n",
       "    </tr>\n",
       "    <tr>\n",
       "      <th>58522</th>\n",
       "      <td>58522</td>\n",
       "      <td>2</td>\n",
       "      <td>αληθινός αγώνας αληθινής ανθρωπότητας</td>\n",
       "    </tr>\n",
       "    <tr>\n",
       "      <th>24586</th>\n",
       "      <td>24586</td>\n",
       "      <td>2</td>\n",
       "      <td>μαγευτικές κορυφές σκληροπυρηνικοί συλλέκτες ...</td>\n",
       "    </tr>\n",
       "    <tr>\n",
       "      <th>253</th>\n",
       "      <td>253</td>\n",
       "      <td>0</td>\n",
       "      <td>γλυκιά ηρωίδα μεσαιωνική ρύθμιση ενδιαφέρουσα...</td>\n",
       "    </tr>\n",
       "    <tr>\n",
       "      <th>20296</th>\n",
       "      <td>20296</td>\n",
       "      <td>2</td>\n",
       "      <td>χριστιανικός άνθρωπος χριστιανικός τρόπος καλ...</td>\n",
       "    </tr>\n",
       "    <tr>\n",
       "      <th>7848</th>\n",
       "      <td>7848</td>\n",
       "      <td>2</td>\n",
       "      <td>περίπλοκα οικόπεδα αποτελεσματική ευκολία μεγ...</td>\n",
       "    </tr>\n",
       "    <tr>\n",
       "      <th>57277</th>\n",
       "      <td>57277</td>\n",
       "      <td>1</td>\n",
       "      <td>ενδιαφέρουσα παράσταση γραφική παράσταση</td>\n",
       "    </tr>\n",
       "    <tr>\n",
       "      <th>21674</th>\n",
       "      <td>21674</td>\n",
       "      <td>0</td>\n",
       "      <td>αξιολύπητοι άνθρωποι καλό σώμα γυμνό σώμα</td>\n",
       "    </tr>\n",
       "    <tr>\n",
       "      <th>6060</th>\n",
       "      <td>6060</td>\n",
       "      <td>2</td>\n",
       "      <td>μεγαλύτερος παίκτης μοναδική προσωπικότητα δι...</td>\n",
       "    </tr>\n",
       "    <tr>\n",
       "      <th>51448</th>\n",
       "      <td>51448</td>\n",
       "      <td>2</td>\n",
       "      <td>αρνητικά συναισθήματα δύσκολο συναισθήματα δύ...</td>\n",
       "    </tr>\n",
       "    <tr>\n",
       "      <th>63383</th>\n",
       "      <td>63383</td>\n",
       "      <td>2</td>\n",
       "      <td>βασική περίπτωση βαριές τιμές</td>\n",
       "    </tr>\n",
       "    <tr>\n",
       "      <th>3060</th>\n",
       "      <td>3060</td>\n",
       "      <td>2</td>\n",
       "      <td>παλιά χρονιά ζωντανή απεικόνιση ισπανική χορε...</td>\n",
       "    </tr>\n",
       "    <tr>\n",
       "      <th>32354</th>\n",
       "      <td>32354</td>\n",
       "      <td>0</td>\n",
       "      <td>νεαρή γυναίκα ινδική γυναίκα αμήχανη πραγματι...</td>\n",
       "    </tr>\n",
       "    <tr>\n",
       "      <th>17469</th>\n",
       "      <td>17469</td>\n",
       "      <td>2</td>\n",
       "      <td>κοντινή αποθήκη</td>\n",
       "    </tr>\n",
       "    <tr>\n",
       "      <th>23597</th>\n",
       "      <td>23597</td>\n",
       "      <td>1</td>\n",
       "      <td>όχι υπέροχη φωνή</td>\n",
       "    </tr>\n",
       "    <tr>\n",
       "      <th>62314</th>\n",
       "      <td>62314</td>\n",
       "      <td>2</td>\n",
       "      <td>αρνητικές λεπτό κριτικές λεπτό άλμπουμ λεπτό ...</td>\n",
       "    </tr>\n",
       "    <tr>\n",
       "      <th>27519</th>\n",
       "      <td>27519</td>\n",
       "      <td>2</td>\n",
       "      <td>χειρότερο επίπεδο pop επίπεδο σεβαστό επίπεδο...</td>\n",
       "    </tr>\n",
       "    <tr>\n",
       "      <th>60751</th>\n",
       "      <td>60751</td>\n",
       "      <td>0</td>\n",
       "      <td>απογοητευμένος λέξη σκληρό δίσκο ηλεκτρονική ...</td>\n",
       "    </tr>\n",
       "    <tr>\n",
       "      <th>53535</th>\n",
       "      <td>53535</td>\n",
       "      <td>0</td>\n",
       "      <td>κακή ποιότητα</td>\n",
       "    </tr>\n",
       "    <tr>\n",
       "      <th>55753</th>\n",
       "      <td>55753</td>\n",
       "      <td>0</td>\n",
       "      <td>κύριος χαρακτήρας mafioso πλοίαρχος θανατηφόρ...</td>\n",
       "    </tr>\n",
       "    <tr>\n",
       "      <th>52687</th>\n",
       "      <td>52687</td>\n",
       "      <td>1</td>\n",
       "      <td>αλλοδαπός τμήμα αλλοδαπός σύστημα παλιό σύστη...</td>\n",
       "    </tr>\n",
       "    <tr>\n",
       "      <th>20226</th>\n",
       "      <td>20226</td>\n",
       "      <td>1</td>\n",
       "      <td>δαπανηρές καιρό</td>\n",
       "    </tr>\n",
       "    <tr>\n",
       "      <th>56841</th>\n",
       "      <td>56841</td>\n",
       "      <td>0</td>\n",
       "      <td>μοναδική σελίδα</td>\n",
       "    </tr>\n",
       "    <tr>\n",
       "      <th>5326</th>\n",
       "      <td>5326</td>\n",
       "      <td>2</td>\n",
       "      <td>μικρό κομμάτι χαρακτηριστικό κλειδί shaders p...</td>\n",
       "    </tr>\n",
       "    <tr>\n",
       "      <th>61983</th>\n",
       "      <td>61983</td>\n",
       "      <td>2</td>\n",
       "      <td>indie χρόνος καλύτερος χρόνος</td>\n",
       "    </tr>\n",
       "  </tbody>\n",
       "</table>\n",
       "<p>69367 rows × 3 columns</p>\n",
       "</div>"
      ],
      "text/plain": [
       "          id  polarity                                               text\n",
       "31154  31154         0                                  βαρύτερο πρόσωπο \n",
       "59052  59052         2   ψηφιακή μηχανή φωτογραφική μηχανή καλής ποιότ...\n",
       "48941  48941         2            ενδιαφέρουσα σύντροφος εύκολη ανάγνωση \n",
       "43345  43345         2                   πλούσιο θόρυβο χρωματικό θόρυβο \n",
       "8049    8049         0                                 διαφορετικές ώρες \n",
       "...      ...       ...                                                ...\n",
       "52687  52687         1   αλλοδαπός τμήμα αλλοδαπός σύστημα παλιό σύστη...\n",
       "20226  20226         1                                   δαπανηρές καιρό \n",
       "56841  56841         0                                   μοναδική σελίδα \n",
       "5326    5326         2   μικρό κομμάτι χαρακτηριστικό κλειδί shaders p...\n",
       "61983  61983         2                     indie χρόνος καλύτερος χρόνος \n",
       "\n",
       "[69367 rows x 3 columns]"
      ]
     },
     "execution_count": 14,
     "metadata": {},
     "output_type": "execute_result"
    }
   ],
   "source": [
    "reviews.sample(frac=1)"
   ]
  },
  {
   "cell_type": "code",
   "execution_count": 15,
   "metadata": {},
   "outputs": [],
   "source": [
    "#reviews = reviews[reviews.polarity != 2]"
   ]
  },
  {
   "cell_type": "code",
   "execution_count": 16,
   "metadata": {},
   "outputs": [],
   "source": [
    "texts = reviews.text.tolist()\n",
    "labels = reviews.polarity.tolist()"
   ]
  },
  {
   "cell_type": "code",
   "execution_count": 17,
   "metadata": {},
   "outputs": [],
   "source": [
    "from nltk.tokenize import word_tokenize\n",
    "texts = [word_tokenize(sentence) for sentence in texts]"
   ]
  },
  {
   "cell_type": "code",
   "execution_count": 18,
   "metadata": {},
   "outputs": [],
   "source": [
    "from gensim.test.utils import datapath\n",
    "w2vmodel=Word2Vec.load(\"newgrmodel.bin\")"
   ]
  },
  {
   "cell_type": "code",
   "execution_count": 19,
   "metadata": {},
   "outputs": [],
   "source": [
    "sequences = []\n",
    "for sentence in texts:\n",
    "    seq = []\n",
    "    for word in sentence:\n",
    "        dict_word = w2vmodel.wv.vocab.get(word)\n",
    "        if dict_word is not None:\n",
    "            seq.append(dict_word.index)\n",
    "    sequences.append(seq)"
   ]
  },
  {
   "cell_type": "code",
   "execution_count": 20,
   "metadata": {},
   "outputs": [],
   "source": [
    "vocab_size = len(w2vmodel.wv.vocab)"
   ]
  },
  {
   "cell_type": "code",
   "execution_count": 21,
   "metadata": {},
   "outputs": [],
   "source": [
    "max_seq_length = max(map(len, sequences))"
   ]
  },
  {
   "cell_type": "code",
   "execution_count": 22,
   "metadata": {},
   "outputs": [
    {
     "name": "stdout",
     "output_type": "stream",
     "text": [
      "6.883864085227846 27.488054797315627\n"
     ]
    }
   ],
   "source": [
    "from statistics import mean, variance\n",
    "m = mean(map(len, sequences))\n",
    "v = variance(map(len, sequences))\n",
    "print(m, v)"
   ]
  },
  {
   "cell_type": "code",
   "execution_count": 23,
   "metadata": {},
   "outputs": [
    {
     "name": "stdout",
     "output_type": "stream",
     "text": [
      "10\n"
     ]
    }
   ],
   "source": [
    "#max_length = int(round(max_seq_length, -1) * 1.2)\n",
    "max_length = int(round(m , -1))\n",
    "print(max_length)"
   ]
  },
  {
   "cell_type": "code",
   "execution_count": 24,
   "metadata": {},
   "outputs": [],
   "source": [
    "padded_seqs = pad_sequences(sequences, maxlen=max_length, padding='post')"
   ]
  },
  {
   "cell_type": "code",
   "execution_count": 34,
   "metadata": {},
   "outputs": [
    {
     "name": "stdout",
     "output_type": "stream",
     "text": [
      "_________________________________________________________________\n",
      "Layer (type)                 Output Shape              Param #   \n",
      "=================================================================\n",
      "embedding_3 (Embedding)      (None, 10, 300)           8300700   \n",
      "_________________________________________________________________\n",
      "lstm_3 (LSTM)                (None, 300)               721200    \n",
      "_________________________________________________________________\n",
      "dense_3 (Dense)              (None, 3)                 903       \n",
      "=================================================================\n",
      "Total params: 9,022,803\n",
      "Trainable params: 722,103\n",
      "Non-trainable params: 8,300,700\n",
      "_________________________________________________________________\n",
      "None\n"
     ]
    }
   ],
   "source": [
    "embedding_size=32\n",
    "model=Sequential()\n",
    "\n",
    "embedding = w2vmodel.wv.get_keras_embedding(train_embeddings=False)\n",
    "embedding.input_dim = vocab_size\n",
    "embedding.output_dim = 300\n",
    "embedding.input_length = max_length\n",
    "embedding.trainable = False\n",
    "\n",
    "model.add(embedding)\n",
    "model.add(LSTM((300)))\n",
    "\n",
    "\n",
    "model.add(Dense(3, activation='sigmoid'))\n",
    "\n",
    "print(model.summary())"
   ]
  },
  {
   "cell_type": "markdown",
   "metadata": {},
   "source": [
    "To summarize, our model is a simple RNN model with 1 embedding, 1 LSTM and 1 dense layers. 213,301 parameters in total need to be trained."
   ]
  },
  {
   "cell_type": "markdown",
   "metadata": {},
   "source": [
    "### Train and evaluate our model\n",
    "\n",
    "We first need to compile our model by specifying the loss function and optimizer we want to use while training, as well as any evaluation metrics we'd like to measure. Specify the approprate parameters, including at least one metric 'accuracy'."
   ]
  },
  {
   "cell_type": "code",
   "execution_count": 35,
   "metadata": {},
   "outputs": [],
   "source": [
    "model.compile(loss='sparse_categorical_crossentropy', \n",
    "             optimizer='adam', \n",
    "             metrics=['accuracy'])"
   ]
  },
  {
   "cell_type": "markdown",
   "metadata": {},
   "source": [
    "Once compiled, we can kick off the training process. There are two important training parameters that we have to specify - batch size and number of training epochs, which together with our model architecture determine the total training time.\n",
    "\n",
    "Training may take a while, so grab a cup of coffee, or better, go for a run!"
   ]
  },
  {
   "cell_type": "code",
   "execution_count": 36,
   "metadata": {
    "scrolled": true
   },
   "outputs": [
    {
     "name": "stdout",
     "output_type": "stream",
     "text": [
      "Train on 68839 samples, validate on 128 samples\n",
      "Epoch 1/25\n",
      "68839/68839 [==============================] - 36s 518us/step - loss: 0.9813 - acc: 0.5205 - val_loss: 0.5385 - val_acc: 0.8047\n",
      "Epoch 2/25\n",
      "68839/68839 [==============================] - 34s 495us/step - loss: 0.9541 - acc: 0.5422 - val_loss: 0.5106 - val_acc: 0.8047\n",
      "Epoch 3/25\n",
      "68839/68839 [==============================] - 35s 512us/step - loss: 0.9392 - acc: 0.5519 - val_loss: 0.5580 - val_acc: 0.7734\n",
      "Epoch 4/25\n",
      "68839/68839 [==============================] - 34s 499us/step - loss: 0.9254 - acc: 0.5589 - val_loss: 0.4949 - val_acc: 0.8359\n",
      "Epoch 5/25\n",
      "68839/68839 [==============================] - 35s 504us/step - loss: 0.9063 - acc: 0.5694 - val_loss: 0.5155 - val_acc: 0.8203\n",
      "Epoch 6/25\n",
      "68839/68839 [==============================] - 35s 506us/step - loss: 0.8810 - acc: 0.5836 - val_loss: 0.5011 - val_acc: 0.8281\n",
      "Epoch 7/25\n",
      "68839/68839 [==============================] - 35s 505us/step - loss: 0.8450 - acc: 0.6042 - val_loss: 0.4938 - val_acc: 0.8594\n",
      "Epoch 8/25\n",
      "68839/68839 [==============================] - 35s 506us/step - loss: 0.7988 - acc: 0.6301 - val_loss: 0.4576 - val_acc: 0.8516\n",
      "Epoch 9/25\n",
      "68839/68839 [==============================] - 35s 508us/step - loss: 0.7405 - acc: 0.6605 - val_loss: 0.4902 - val_acc: 0.8359\n",
      "Epoch 10/25\n",
      "68839/68839 [==============================] - 35s 505us/step - loss: 0.6801 - acc: 0.6927 - val_loss: 0.5010 - val_acc: 0.8516\n",
      "Epoch 11/25\n",
      "68839/68839 [==============================] - 35s 507us/step - loss: 0.6192 - acc: 0.7207 - val_loss: 0.5377 - val_acc: 0.8516\n",
      "Epoch 12/25\n",
      "68839/68839 [==============================] - 35s 508us/step - loss: 0.5651 - acc: 0.7474 - val_loss: 0.5241 - val_acc: 0.8359\n",
      "Epoch 13/25\n",
      "68839/68839 [==============================] - 35s 504us/step - loss: 0.5195 - acc: 0.7667 - val_loss: 0.5508 - val_acc: 0.8516\n",
      "Epoch 14/25\n",
      "68839/68839 [==============================] - 38s 559us/step - loss: 0.4810 - acc: 0.7842 - val_loss: 0.5420 - val_acc: 0.8750\n",
      "Epoch 15/25\n",
      "68839/68839 [==============================] - 37s 536us/step - loss: 0.4519 - acc: 0.7970 - val_loss: 0.5785 - val_acc: 0.8828\n",
      "Epoch 16/25\n",
      "68839/68839 [==============================] - 35s 505us/step - loss: 0.4245 - acc: 0.8087 - val_loss: 0.6076 - val_acc: 0.8516\n",
      "Epoch 17/25\n",
      "68839/68839 [==============================] - 35s 506us/step - loss: 0.4055 - acc: 0.8175 - val_loss: 0.6263 - val_acc: 0.8750\n",
      "Epoch 18/25\n",
      "68839/68839 [==============================] - 35s 510us/step - loss: 0.3874 - acc: 0.8253 - val_loss: 0.6067 - val_acc: 0.8672\n",
      "Epoch 19/25\n",
      "68839/68839 [==============================] - 35s 505us/step - loss: 0.3699 - acc: 0.8338 - val_loss: 0.6363 - val_acc: 0.8516\n",
      "Epoch 20/25\n",
      "68839/68839 [==============================] - 35s 505us/step - loss: 0.3557 - acc: 0.8396 - val_loss: 0.6855 - val_acc: 0.8594\n",
      "Epoch 21/25\n",
      "68839/68839 [==============================] - 35s 509us/step - loss: 0.3441 - acc: 0.8442 - val_loss: 0.6836 - val_acc: 0.8281\n",
      "Epoch 22/25\n",
      "68839/68839 [==============================] - 35s 508us/step - loss: 0.3378 - acc: 0.8470 - val_loss: 0.7676 - val_acc: 0.8594\n",
      "Epoch 23/25\n",
      "68839/68839 [==============================] - 35s 508us/step - loss: 0.3258 - acc: 0.8530 - val_loss: 0.7890 - val_acc: 0.8438\n",
      "Epoch 24/25\n",
      "68839/68839 [==============================] - 35s 508us/step - loss: 0.3139 - acc: 0.8592 - val_loss: 0.7529 - val_acc: 0.8750\n",
      "Epoch 25/25\n",
      "68839/68839 [==============================] - 34s 497us/step - loss: 0.3130 - acc: 0.8584 - val_loss: 0.7780 - val_acc: 0.8281\n"
     ]
    }
   ],
   "source": [
    "batch_size = 128\n",
    "num_epochs = 25\n",
    "TEST_SIZE = 400\n",
    "VALID_SIZE = batch_size \n",
    "TRAIN_SIZE = len(padded_seqs) - TEST_SIZE - VALID_SIZE\n",
    "\n",
    "\n",
    "train_seqs, train_lbls, valid_seqs, valid_lbls, test_seqs, test_lbls = (\n",
    "            padded_seqs[:TRAIN_SIZE], labels[:TRAIN_SIZE],\n",
    "            padded_seqs[TRAIN_SIZE:-TEST_SIZE], labels[TRAIN_SIZE:-TEST_SIZE],\n",
    "            padded_seqs[-TEST_SIZE:], labels[-TEST_SIZE:])\n",
    "history = model.fit(train_seqs, train_lbls, validation_data=(valid_seqs, valid_lbls), batch_size=batch_size, epochs=num_epochs)"
   ]
  },
  {
   "cell_type": "markdown",
   "metadata": {},
   "source": [
    "scores[1] will correspond to accuracy if we pass metrics=['accuracy']"
   ]
  },
  {
   "cell_type": "code",
   "execution_count": 37,
   "metadata": {},
   "outputs": [
    {
     "name": "stdout",
     "output_type": "stream",
     "text": [
      "Test accuracy: 0.7625\n"
     ]
    }
   ],
   "source": [
    "scores = model.evaluate(test_seqs, test_lbls, verbose=0)\n",
    "print('Test accuracy:', scores[1])"
   ]
  },
  {
   "cell_type": "code",
   "execution_count": 39,
   "metadata": {},
   "outputs": [
    {
     "data": {
      "image/png": "[encoded data removed]",
      "text/plain": [
       "<Figure size 432x288 with 1 Axes>"
      ]
     },
     "metadata": {
      "needs_background": "light"
     },
     "output_type": "display_data"
    },
    {
     "data": {
      "text/plain": [
       "22"
      ]
     },
     "execution_count": 39,
     "metadata": {},
     "output_type": "execute_result"
    }
   ],
   "source": [
    "import matplotlib.pyplot as plt\n",
    "plt.plot(history.history['acc'])\n",
    "plt.plot(history.history['val_acc'])\n",
    "plt.title('model accuracy')\n",
    "plt.ylabel('accuracy')\n",
    "plt.xlabel('epoch')\n",
    "plt.legend(['train', 'valid'], loc='upper left')\n",
    "plt.show()\n",
    "22"
   ]
  },
  {
   "cell_type": "code",
   "execution_count": 40,
   "metadata": {},
   "outputs": [
    {
     "data": {
      "image/png": "[encoded data removed]",
      "text/plain": [
       "<Figure size 432x288 with 1 Axes>"
      ]
     },
     "metadata": {
      "needs_background": "light"
     },
     "output_type": "display_data"
    }
   ],
   "source": [
    "# summarize history for loss\n",
    "plt.plot(history.history['loss'])\n",
    "plt.plot(history.history['val_loss'])\n",
    "plt.title('model loss')\n",
    "plt.ylabel('loss')\n",
    "plt.xlabel('epoch')\n",
    "plt.legend(['train', 'valid'], loc='upper left')\n",
    "plt.show()"
   ]
  },
  {
   "cell_type": "code",
   "execution_count": null,
   "metadata": {},
   "outputs": [],
   "source": []
  }
 ],
 "metadata": {
  "kernelspec": {
   "display_name": "Python 3",
   "language": "python",
   "name": "python3"
  },
  "language_info": {
   "codemirror_mode": {
    "name": "ipython",
    "version": 3
   },
   "file_extension": ".py",
   "mimetype": "text/x-python",
   "name": "python",
   "nbconvert_exporter": "python",
   "pygments_lexer": "ipython3",
   "version": "3.6.8"
  }
 },
 "nbformat": 4,
 "nbformat_minor": 2
}
